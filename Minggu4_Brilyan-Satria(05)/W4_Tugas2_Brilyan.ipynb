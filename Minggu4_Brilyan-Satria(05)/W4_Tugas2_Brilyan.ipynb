{
  "nbformat": 4,
  "nbformat_minor": 0,
  "metadata": {
    "colab": {
      "provenance": [],
      "authorship_tag": "ABX9TyPCeaMJO/+fDfZ66qxxsvpB",
      "include_colab_link": true
    },
    "kernelspec": {
      "name": "python3",
      "display_name": "Python 3"
    },
    "language_info": {
      "name": "python"
    }
  },
  "cells": [
    {
      "cell_type": "markdown",
      "metadata": {
        "id": "view-in-github",
        "colab_type": "text"
      },
      "source": [
        "<a href=\"https://colab.research.google.com/github/AlsoKnownAsZira/ML_Brilyan-Satria-Wahyuda_05_TI3H/blob/main/Minggu4_Brilyan-Satria(05)/W4_Tugas2_Brilyan.ipynb\" target=\"_parent\"><img src=\"https://colab.research.google.com/assets/colab-badge.svg\" alt=\"Open In Colab\"/></a>"
      ]
    },
    {
      "cell_type": "markdown",
      "source": [
        "# Tugas 2"
      ],
      "metadata": {
        "id": "a02ClE_UzlB_"
      }
    },
    {
      "cell_type": "markdown",
      "source": [
        "Buatlah model klasifikasi dengan menggunakan SVM berdasarkan data pada Percobaan 5 dengan menggunakan fitur histogram."
      ],
      "metadata": {
        "id": "6ajdVIoSzkE1"
      }
    },
    {
      "cell_type": "markdown",
      "source": [
        "import lib"
      ],
      "metadata": {
        "id": "i68jX8CezpDQ"
      }
    },
    {
      "cell_type": "code",
      "execution_count": 19,
      "metadata": {
        "id": "ZrxGYZZhzYgJ"
      },
      "outputs": [],
      "source": [
        "import numpy as np\n",
        "import matplotlib.pyplot as plt\n",
        "import matplotlib.image as mpimg\n",
        "from pathlib import Path\n",
        "from sklearn.svm import SVC\n",
        "from sklearn.model_selection import train_test_split\n",
        "from sklearn.metrics import classification_report, confusion_matrix, accuracy_score\n",
        "from sklearn.preprocessing import LabelEncoder"
      ]
    },
    {
      "cell_type": "markdown",
      "source": [
        "Mount drive"
      ],
      "metadata": {
        "id": "Q1lS4z9Yz4Ra"
      }
    },
    {
      "cell_type": "code",
      "source": [
        "\n",
        "\n",
        "from google.colab import drive\n",
        "drive.mount('/content/drive')\n",
        ""
      ],
      "metadata": {
        "colab": {
          "base_uri": "https://localhost:8080/"
        },
        "id": "x49EpGj_z6Jb",
        "outputId": "7522f2e2-acd8-4338-f11a-e557370c24af"
      },
      "execution_count": 2,
      "outputs": [
        {
          "output_type": "stream",
          "name": "stdout",
          "text": [
            "Mounted at /content/drive\n"
          ]
        }
      ]
    },
    {
      "cell_type": "markdown",
      "source": [
        "Function untuk load dataset"
      ],
      "metadata": {
        "id": "wKWa0FyN0AEy"
      }
    },
    {
      "cell_type": "code",
      "source": [
        "def load_dataset(img_dir):\n",
        "    p = Path(img_dir)\n",
        "    dirs = p.glob('*')\n",
        "    img_list = []\n",
        "    for dir in dirs:\n",
        "        label = str(dir).split('/')[-1]\n",
        "        for file in dir.glob('*.jpg'):\n",
        "            img = mpimg.imread(file)\n",
        "            if img is not None:\n",
        "                img_list.append((img, label))\n",
        "    return img_list"
      ],
      "metadata": {
        "id": "s4FtU6vh0DwL"
      },
      "execution_count": 3,
      "outputs": []
    },
    {
      "cell_type": "markdown",
      "source": [
        "Function histogram ekstrak fitur"
      ],
      "metadata": {
        "id": "9DX9jMAg0GDt"
      }
    },
    {
      "cell_type": "code",
      "source": [
        "def extract_histogram_features(image, bins=256):\n",
        "    hist = np.histogram(image.flatten(), bins=bins, range=[0, 256])[0]\n",
        "    return hist / np.sum(hist)"
      ],
      "metadata": {
        "id": "d_1w-sIF0Ixp"
      },
      "execution_count": 4,
      "outputs": []
    },
    {
      "cell_type": "markdown",
      "source": [
        "Function prepare data"
      ],
      "metadata": {
        "id": "xf9XsOBR0Ny7"
      }
    },
    {
      "cell_type": "code",
      "source": [
        "def prepare_data(data):\n",
        "    X = np.array([extract_histogram_features(img) for img, _ in data])\n",
        "    y = np.array([label for _, label in data])\n",
        "\n",
        "      # Encode labels\n",
        "    le = LabelEncoder()\n",
        "    y = le.fit_transform(y)\n",
        "    return X, y, le"
      ],
      "metadata": {
        "id": "iCQGx74p0TFN"
      },
      "execution_count": 16,
      "outputs": []
    },
    {
      "cell_type": "markdown",
      "source": [
        "Loading foto"
      ],
      "metadata": {
        "id": "HpO_2EdE0v5Q"
      }
    },
    {
      "cell_type": "code",
      "source": [
        "train_dir = \"/content/drive/MyDrive/ml/images/images/training/\"\n",
        "test_dir = \"/content/drive/MyDrive/ml/images//images/test/\""
      ],
      "metadata": {
        "id": "xmRu9MdG0yKY"
      },
      "execution_count": 17,
      "outputs": []
    },
    {
      "cell_type": "code",
      "source": [
        "# masukkan gambar ke train dan test\n",
        "train_data = load_dataset(train_dir)\n",
        "test_data = load_dataset(test_dir)\n",
        "# pecah menjadi training dan test\n",
        "X_train, y_train, le = prepare_data(train_data)\n",
        "X_test, y_test, _ = prepare_data(test_data)\n",
        "\n",
        "# Training SVM model\n",
        "svm_model = SVC(kernel='rbf', C=1.0, random_state=50)\n",
        "svm_model.fit(X_train, y_train)\n",
        "\n",
        "# buat prediksi dengan svm\n",
        "y_pred = svm_model.predict(X_test)\n",
        "\n",
        "# evaluasi the model\n",
        "accuracy = accuracy_score(y_test, y_pred)\n",
        "print(f\"Accuracy Score: {accuracy:.4f}\")\n",
        "print(\"Classification Report:\")\n",
        "print(classification_report(y_test, y_pred, target_names=le.classes_))\n",
        "print(\"\\nConfusion Matrix:\")\n",
        "print(confusion_matrix(y_test, y_pred))"
      ],
      "metadata": {
        "colab": {
          "base_uri": "https://localhost:8080/"
        },
        "id": "wTcyGeZ306E4",
        "outputId": "471d3880-09ed-47d0-d560-d8b8cf0b7d96"
      },
      "execution_count": 20,
      "outputs": [
        {
          "output_type": "stream",
          "name": "stdout",
          "text": [
            "Accuracy Score: 0.9750\n",
            "Classification Report:\n",
            "              precision    recall  f1-score   support\n",
            "\n",
            "         day       0.96      0.99      0.98        80\n",
            "       night       0.99      0.96      0.97        80\n",
            "\n",
            "    accuracy                           0.97       160\n",
            "   macro avg       0.98      0.98      0.97       160\n",
            "weighted avg       0.98      0.97      0.97       160\n",
            "\n",
            "\n",
            "Confusion Matrix:\n",
            "[[79  1]\n",
            " [ 3 77]]\n"
          ]
        }
      ]
    }
  ]
}